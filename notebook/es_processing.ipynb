{
 "cells": [
  {
   "cell_type": "code",
   "id": "initial_id",
   "metadata": {
    "collapsed": true,
    "ExecuteTime": {
     "end_time": "2024-12-16T13:55:38.993343Z",
     "start_time": "2024-12-16T13:55:16.579416Z"
    }
   },
   "source": [
    "# data = open('../data/temp/cleaned.train', 'r', encoding='utf-8')\n",
    "#\n",
    "# # 按行读取数据，原来的数据格式为每行一条搜索记录，回车换行，存入es json文件,格式如下\n",
    "# # { \"index\": { \"_id\": \"1\" } }\n",
    "# # { \"query_content\": \"华为手机\" }\n",
    "#\n",
    "# with open('../data/temp/query_logs.json', 'w', encoding='utf-8') as f:\n",
    "#     for i, line in enumerate(data):\n",
    "#         f.write(f'{{ \"index\": {{ \"_id\": \"{i}\" }} }}\\n')\n",
    "#         f.write(f'{{ \"query_content\": \"{line.strip()}\" }}\\n')\n",
    "#\n",
    "# f.close()\n",
    "\n",
    "# 每 100 MB 一个文件\n",
    "# query_logs_0.json query_logs_1.json ...\n",
    "with open('../data/temp/query_logs.json', 'r', encoding='utf-8') as f:\n",
    "    i = 0\n",
    "    j = 0\n",
    "    for line in f:\n",
    "        if j == 0:\n",
    "            out = open(f'../data/temp/query_logs_{i}.json', 'w', encoding='utf-8')\n",
    "            out.write(line)\n",
    "            j += len(line)\n",
    "        else:\n",
    "            out.write(line)\n",
    "            j += len(line)\n",
    "            if j > 10000000:\n",
    "                out.close()\n",
    "                i += 1\n",
    "                j = 0\n",
    "    out.close()\n",
    "f.close()\n",
    "\n",
    "\n",
    "\n"
   ],
   "outputs": [],
   "execution_count": 6
  },
  {
   "metadata": {},
   "cell_type": "code",
   "outputs": [],
   "execution_count": null,
   "source": [
    "# 批量导入es\n",
    "# 119.29.194.130:9200\n"
   ],
   "id": "376e9ff2520ccdda"
  }
 ],
 "metadata": {
  "kernelspec": {
   "display_name": "Python 3",
   "language": "python",
   "name": "python3"
  },
  "language_info": {
   "codemirror_mode": {
    "name": "ipython",
    "version": 2
   },
   "file_extension": ".py",
   "mimetype": "text/x-python",
   "name": "python",
   "nbconvert_exporter": "python",
   "pygments_lexer": "ipython2",
   "version": "2.7.6"
  }
 },
 "nbformat": 4,
 "nbformat_minor": 5
}
