{
 "cells": [
  {
   "cell_type": "code",
   "id": "initial_id",
   "metadata": {
    "collapsed": true,
    "ExecuteTime": {
     "end_time": "2024-12-05T15:27:24.402328Z",
     "start_time": "2024-12-05T15:27:13.781425Z"
    }
   },
   "source": [
    "data = open('../data/temp/cleaned.train', 'r', encoding='utf-8')\n",
    "\n",
    "# 按行读取数据，原来的数据格式为每行一条搜索记录，回车换行，存入es json文件,格式如下\n",
    "# { \"index\": { \"_index\": \"query_logs\", \"_id\": \"1\" } }\n",
    "# { \"query_text\": \"华为手机\" }\n",
    "\n",
    "# with open('../data/temp/query_logs.json', 'w', encoding='utf-8') as f:\n",
    "#     for i, line in enumerate(data):\n",
    "#         # f.write(f'{{ \"index\": {{\"_index\": \"query_logs\", \"_id\": \"{i}\"}} }}\\n')\n",
    "#         f.write(f'{{ \"query_text\": \"{line.strip()}\" }}\\n')\n",
    "#\n",
    "# f.close()\n",
    "\n",
    "# 每 500 MB 一个文件\n",
    "# { \"query_text\": \"华为手机\" }\n",
    "with open('../data/temp/query_logs.json', 'r', encoding='utf-8') as f:\n",
    "    lines = f.readlines()\n",
    "    for i in range(0, len(lines), 10000000): # 10000000 行一个文件\n",
    "        with open(f'../data/temp/query_logs_{i}.json', 'w', encoding='utf-8') as f2:\n",
    "            f2.writelines(lines[i:i+10000000])\n",
    "\n"
   ],
   "outputs": [],
   "execution_count": 4
  },
  {
   "metadata": {},
   "cell_type": "code",
   "outputs": [],
   "execution_count": null,
   "source": "",
   "id": "376e9ff2520ccdda"
  }
 ],
 "metadata": {
  "kernelspec": {
   "display_name": "Python 3",
   "language": "python",
   "name": "python3"
  },
  "language_info": {
   "codemirror_mode": {
    "name": "ipython",
    "version": 2
   },
   "file_extension": ".py",
   "mimetype": "text/x-python",
   "name": "python",
   "nbconvert_exporter": "python",
   "pygments_lexer": "ipython2",
   "version": "2.7.6"
  }
 },
 "nbformat": 4,
 "nbformat_minor": 5
}
