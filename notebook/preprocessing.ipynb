{
 "cells": [
  {
   "metadata": {},
   "cell_type": "markdown",
   "source": [
    "## 数据预处理\n",
    "\n"
   ],
   "id": "d88639c1aadf1067"
  },
  {
   "metadata": {},
   "cell_type": "code",
   "source": [
    "import os.path\n",
    "\n",
    "train_data = open('../data/raw/sogou_rematch/user_tag_query.10W.TRAIN', 'r', encoding='gb18030')\n",
    "OUTPUT_DATA_PATH = '../data/processed/query_words.train'\n",
    "\n",
    "try:\n",
    "    if os.path.exists(OUTPUT_DATA_PATH):\n",
    "        os.remove(OUTPUT_DATA_PATH)\n",
    "\n",
    "    output_data = open(OUTPUT_DATA_PATH, 'w', encoding='utf-8')\n",
    "\n",
    "    for line in train_data:\n",
    "        line_list = line.split('\\t') # 以制表符分割\n",
    "        line_list = line_list[4:] # 只保留查询词\n",
    "        output_line = '\\n'.join(line_list) # 以换行符连接\n",
    "        output_data.write(output_line) # 写入文件\n",
    "finally:\n",
    "    train_data.close()\n",
    "    output_data.close()"
   ],
   "id": "7a6af711653f5ac0",
   "outputs": [],
   "execution_count": null
  },
  {
   "metadata": {},
   "cell_type": "code",
   "source": [
    "import re\n",
    "import os.path\n",
    "\n",
    "OUTPUT_DATA_PATH = '../data/processed/cleaned.train'\n",
    "\n",
    "try:\n",
    "    train_data = open('../data/processed/query_words.train', 'r', encoding='utf-8')\n",
    "    if os.path.exists(OUTPUT_DATA_PATH):\n",
    "        os.remove(OUTPUT_DATA_PATH)\n",
    "\n",
    "    output_data = open(OUTPUT_DATA_PATH, 'w', encoding='utf-8')\n",
    "\n",
    "    for line in train_data:\n",
    "        word_list = line.split('\\t')\n",
    "        pattern = re.compile('(https?|ftp|file)://[-A-Za-z0-9+&@#/%?=~_|!:,.;]+[-A-Za-z0-9+&@#/%=~_|]')\n",
    "        # 如果字符串包含网址，则跳过\n",
    "        if pattern.search(word_list[0]):\n",
    "            continue\n",
    "        line_string = '\\n'.join(word_list)\n",
    "        output_data.write(line_string)\n",
    "finally:\n",
    "    train_data.close()\n",
    "    output_data.close()"
   ],
   "id": "fc9750c11cfd34b",
   "outputs": [],
   "execution_count": null
  }
 ],
 "metadata": {
  "kernelspec": {
   "display_name": "Python 3",
   "language": "python",
   "name": "python3"
  },
  "language_info": {
   "codemirror_mode": {
    "name": "ipython",
    "version": 2
   },
   "file_extension": ".py",
   "mimetype": "text/x-python",
   "name": "python",
   "nbconvert_exporter": "python",
   "pygments_lexer": "ipython2",
   "version": "2.7.6"
  }
 },
 "nbformat": 4,
 "nbformat_minor": 5
}
