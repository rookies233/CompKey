{
 "cells": [
  {
   "cell_type": "markdown",
   "id": "d88639c1aadf1067",
   "metadata": {},
   "source": [
    "## 数据预处理\n",
    "\n"
   ]
  },
  {
   "cell_type": "code",
   "id": "7a6af711653f5ac0",
   "metadata": {
    "ExecuteTime": {
     "end_time": "2024-10-21T02:11:53.586429Z",
     "start_time": "2024-10-21T02:11:53.238294Z"
    }
   },
   "source": [
    "import os.path\n",
    "\n",
    "train_data = open('../data/raw/sogou_rematch/user_tag_query.10W.TRAIN', 'r', encoding='gb18030')\n",
    "OUTPUT_DATA_PATH = '../data/processed/query_words.train'\n",
    "\n",
    "try:\n",
    "    if os.path.exists(OUTPUT_DATA_PATH):\n",
    "        os.remove(OUTPUT_DATA_PATH)\n",
    "\n",
    "    output_data = open(OUTPUT_DATA_PATH, 'w', encoding='utf-8')\n",
    "\n",
    "    for line in train_data:\n",
    "        line_list = line.split('\\t') # 以制表符分割\n",
    "        line_list = line_list[4:] # 只保留查询词\n",
    "        output_line = '\\n'.join(line_list) # 以换行符连接\n",
    "        output_data.write(output_line) # 写入文件\n",
    "finally:\n",
    "    train_data.close()\n",
    "    output_data.close()"
   ],
   "outputs": [
    {
     "ename": "FileNotFoundError",
     "evalue": "[Errno 2] No such file or directory: '../data/raw/sogou_rematch/user_tag_query.10W.TRAIN'",
     "output_type": "error",
     "traceback": [
      "\u001B[1;31m---------------------------------------------------------------------------\u001B[0m",
      "\u001B[1;31mFileNotFoundError\u001B[0m                         Traceback (most recent call last)",
      "Cell \u001B[1;32mIn[1], line 3\u001B[0m\n\u001B[0;32m      1\u001B[0m \u001B[38;5;28;01mimport\u001B[39;00m \u001B[38;5;21;01mos\u001B[39;00m\u001B[38;5;21;01m.\u001B[39;00m\u001B[38;5;21;01mpath\u001B[39;00m\n\u001B[1;32m----> 3\u001B[0m train_data \u001B[38;5;241m=\u001B[39m \u001B[38;5;28;43mopen\u001B[39;49m\u001B[43m(\u001B[49m\u001B[38;5;124;43m'\u001B[39;49m\u001B[38;5;124;43m../data/raw/sogou_rematch/user_tag_query.10W.TRAIN\u001B[39;49m\u001B[38;5;124;43m'\u001B[39;49m\u001B[43m,\u001B[49m\u001B[43m \u001B[49m\u001B[38;5;124;43m'\u001B[39;49m\u001B[38;5;124;43mr\u001B[39;49m\u001B[38;5;124;43m'\u001B[39;49m\u001B[43m,\u001B[49m\u001B[43m \u001B[49m\u001B[43mencoding\u001B[49m\u001B[38;5;241;43m=\u001B[39;49m\u001B[38;5;124;43m'\u001B[39;49m\u001B[38;5;124;43mgb18030\u001B[39;49m\u001B[38;5;124;43m'\u001B[39;49m\u001B[43m)\u001B[49m\n\u001B[0;32m      4\u001B[0m OUTPUT_DATA_PATH \u001B[38;5;241m=\u001B[39m \u001B[38;5;124m'\u001B[39m\u001B[38;5;124m../data/processed/query_words.train\u001B[39m\u001B[38;5;124m'\u001B[39m\n\u001B[0;32m      6\u001B[0m \u001B[38;5;28;01mtry\u001B[39;00m:\n",
      "File \u001B[1;32mC:\\xingyuan\\大三\\大三上\\电子商务\\CompKey\\.venv\\Lib\\site-packages\\IPython\\core\\interactiveshell.py:324\u001B[0m, in \u001B[0;36m_modified_open\u001B[1;34m(file, *args, **kwargs)\u001B[0m\n\u001B[0;32m    317\u001B[0m \u001B[38;5;28;01mif\u001B[39;00m file \u001B[38;5;129;01min\u001B[39;00m {\u001B[38;5;241m0\u001B[39m, \u001B[38;5;241m1\u001B[39m, \u001B[38;5;241m2\u001B[39m}:\n\u001B[0;32m    318\u001B[0m     \u001B[38;5;28;01mraise\u001B[39;00m \u001B[38;5;167;01mValueError\u001B[39;00m(\n\u001B[0;32m    319\u001B[0m         \u001B[38;5;124mf\u001B[39m\u001B[38;5;124m\"\u001B[39m\u001B[38;5;124mIPython won\u001B[39m\u001B[38;5;124m'\u001B[39m\u001B[38;5;124mt let you open fd=\u001B[39m\u001B[38;5;132;01m{\u001B[39;00mfile\u001B[38;5;132;01m}\u001B[39;00m\u001B[38;5;124m by default \u001B[39m\u001B[38;5;124m\"\u001B[39m\n\u001B[0;32m    320\u001B[0m         \u001B[38;5;124m\"\u001B[39m\u001B[38;5;124mas it is likely to crash IPython. If you know what you are doing, \u001B[39m\u001B[38;5;124m\"\u001B[39m\n\u001B[0;32m    321\u001B[0m         \u001B[38;5;124m\"\u001B[39m\u001B[38;5;124myou can use builtins\u001B[39m\u001B[38;5;124m'\u001B[39m\u001B[38;5;124m open.\u001B[39m\u001B[38;5;124m\"\u001B[39m\n\u001B[0;32m    322\u001B[0m     )\n\u001B[1;32m--> 324\u001B[0m \u001B[38;5;28;01mreturn\u001B[39;00m \u001B[43mio_open\u001B[49m\u001B[43m(\u001B[49m\u001B[43mfile\u001B[49m\u001B[43m,\u001B[49m\u001B[43m \u001B[49m\u001B[38;5;241;43m*\u001B[39;49m\u001B[43margs\u001B[49m\u001B[43m,\u001B[49m\u001B[43m \u001B[49m\u001B[38;5;241;43m*\u001B[39;49m\u001B[38;5;241;43m*\u001B[39;49m\u001B[43mkwargs\u001B[49m\u001B[43m)\u001B[49m\n",
      "\u001B[1;31mFileNotFoundError\u001B[0m: [Errno 2] No such file or directory: '../data/raw/sogou_rematch/user_tag_query.10W.TRAIN'"
     ]
    }
   ],
   "execution_count": 1
  },
  {
   "cell_type": "code",
   "id": "fc9750c11cfd34b",
   "metadata": {
    "ExecuteTime": {
     "end_time": "2024-10-21T02:11:53.587435Z",
     "start_time": "2024-10-21T02:11:53.587435Z"
    }
   },
   "source": [
    "import re\n",
    "import os.path\n",
    "\n",
    "OUTPUT_DATA_PATH = '../data/processed/cleaned.train'\n",
    "\n",
    "try:\n",
    "    train_data = open('../data/processed/query_words.train', 'r', encoding='utf-8')\n",
    "    if os.path.exists(OUTPUT_DATA_PATH):\n",
    "        os.remove(OUTPUT_DATA_PATH)\n",
    "\n",
    "    output_data = open(OUTPUT_DATA_PATH, 'w', encoding='utf-8')\n",
    "\n",
    "    for line in train_data:\n",
    "        word_list = line.split('\\t')\n",
    "        pattern = re.compile('(https?|ftp|file)://[-A-Za-z0-9+&@#/%?=~_|!:,.;]+[-A-Za-z0-9+&@#/%=~_|]')\n",
    "        # 如果字符串包含网址，则跳过\n",
    "        if pattern.search(word_list[0]):\n",
    "            continue\n",
    "        line_string = '\\n'.join(word_list)\n",
    "        output_data.write(line_string)\n",
    "finally:\n",
    "    train_data.close()\n",
    "    output_data.close()"
   ],
   "outputs": [],
   "execution_count": null
  },
  {
   "cell_type": "markdown",
   "id": "e5773289bf4f5f23",
   "metadata": {},
   "source": [
    "## 分词"
   ]
  },
  {
   "cell_type": "code",
   "id": "fa34e3609b4450a5",
   "metadata": {
    "ExecuteTime": {
     "end_time": "2024-10-21T02:11:53.588436Z",
     "start_time": "2024-10-21T02:11:53.588436Z"
    }
   },
   "source": [
    "import jieba\n",
    "# 读取cleaned.train文件\n",
    "train_data = open('../data/processed/cleaned.train', 'r', encoding='utf-8')\n",
    "output_data = open('../data/processed/seg_list.train', 'w', encoding='utf-8')\n",
    "# 逐行处理\n",
    "for line in train_data:\n",
    "    line = line.strip()\n",
    "    temp_seg_list = list(jieba.cut(line))\n",
    "    # 去除空格\n",
    "    temp_seg_list = [word for word in temp_seg_list if word != ' ']\n",
    "    output_data.write('\\n'.join(temp_seg_list))\n",
    "    # 换行\n",
    "    output_data.write('\\n')\n",
    "# 关闭文件\n",
    "print('分词处理完成！')\n",
    "train_data.close()\n",
    "output_data.close()"
   ],
   "outputs": [],
   "execution_count": null
  },
  {
   "metadata": {},
   "cell_type": "markdown",
   "source": "## 合并停用词文件",
   "id": "c6ab45806ae99c03"
  },
  {
   "metadata": {},
   "cell_type": "code",
   "source": [
    "# 停用词文件路径\n",
    "stopwords_file_1 = '../data/stop_words/baidu_stopwords.txt'  # 第一个停用词文件\n",
    "stopwords_file_2 = '../data/stop_words/cn_stopwords.txt'  # 第二个停用词文件\n",
    "output_file = '../data/stop_words/merge_stopwords.txt'  # 输出合并后的停用词文件\n",
    "\n",
    "# 1. 读取第一个停用词文件\n",
    "stopwords = set()  # 使用集合以避免重复\n",
    "\n",
    "with open(stopwords_file_1, 'r', encoding='utf-8') as file:\n",
    "    for line in file:\n",
    "        stopwords.add(line.strip())  # 去除行首尾空白并添加到集合中\n",
    "\n",
    "# 2. 读取第二个停用词文件\n",
    "with open(stopwords_file_2, 'r', encoding='utf-8') as file:\n",
    "    for line in file:\n",
    "        stopwords.add(line.strip())  # 去除行首尾空白并添加到集合中\n",
    "\n",
    "# 3. 将合并后的停用词写入输出文件\n",
    "with open(output_file, 'w', encoding='utf-8') as file:\n",
    "    for word in sorted(stopwords):  # 可选：按字母顺序排序\n",
    "        file.write(word + '\\n')  # 每个停用词写入一行"
   ],
   "id": "39e2c3cc75837deb",
   "outputs": [],
   "execution_count": null
  },
  {
   "metadata": {},
   "cell_type": "markdown",
   "source": "## 过滤词",
   "id": "dd6e38acd85cdd91"
  },
  {
   "metadata": {
    "ExecuteTime": {
     "end_time": "2024-10-21T02:12:49.304966Z",
     "start_time": "2024-10-21T02:12:08.974963Z"
    }
   },
   "cell_type": "code",
   "source": [
    "# 1. 加载停用词\n",
    "stopwords_file = '../data/stop_words/merge_stopwords.txt'  # 停用词文件路径\n",
    "stopwords = set()\n",
    "\n",
    "with open(stopwords_file, 'r', encoding='utf-8') as file:\n",
    "    for line in file:\n",
    "        stopwords.add(line.strip())\n",
    "\n",
    "# 2. 读取已分词的训练数据并过滤停用词\n",
    "train_file = '../data/processed/seg_list.train'  # 已分词的训练数据路径\n",
    "output_file = '../data/processed/filter_list.train'  # 过滤后的训练数据路径\n",
    "\n",
    "with open(train_file, 'r', encoding='utf-8') as train_data, \\\n",
    "     open(output_file, 'w', encoding='utf-8') as output_data:\n",
    "\n",
    "    for line in train_data:\n",
    "        line = line.strip()  # 去除行首尾空白\n",
    "        words = line.split()  # 将分词结果按空格拆分\n",
    "        # 过滤停用词\n",
    "        filtered_words = [word for word in words if word not in stopwords]\n",
    "        if filtered_words:  # 确保不写入空行\n",
    "            output_data.write(' '.join(filtered_words) + '\\n')  # 以空格连接过滤后的词\n"
   ],
   "id": "b836a95bbcd1e7b9",
   "outputs": [],
   "execution_count": 2
  },
  {
   "metadata": {},
   "cell_type": "code",
   "source": "",
   "id": "8668a85598d36ac3",
   "outputs": [],
   "execution_count": null
  }
 ],
 "metadata": {
  "kernelspec": {
   "display_name": "Python 3 (ipykernel)",
   "language": "python",
   "name": "python3"
  },
  "language_info": {
   "codemirror_mode": {
    "name": "ipython",
    "version": 3
   },
   "file_extension": ".py",
   "mimetype": "text/x-python",
   "name": "python",
   "nbconvert_exporter": "python",
   "pygments_lexer": "ipython3",
   "version": "3.12.3"
  }
 },
 "nbformat": 4,
 "nbformat_minor": 5
}
