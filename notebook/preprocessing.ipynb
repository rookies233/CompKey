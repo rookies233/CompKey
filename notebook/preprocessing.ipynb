{
 "cells": [
  {
   "cell_type": "markdown",
   "id": "d88639c1aadf1067",
   "metadata": {},
   "source": [
    "## 数据预处理\n",
    "\n"
   ]
  },
  {
   "cell_type": "code",
   "id": "7a6af711653f5ac0",
   "metadata": {},
   "source": [
    "import os.path\n",
    "\n",
    "train_data = open('../data/raw/sogou_rematch/user_tag_query.10W.TRAIN', 'r', encoding='gb18030')\n",
    "OUTPUT_DATA_PATH = '../data/processed/query_words.train'\n",
    "\n",
    "try:\n",
    "    if os.path.exists(OUTPUT_DATA_PATH):\n",
    "        os.remove(OUTPUT_DATA_PATH)\n",
    "\n",
    "    output_data = open(OUTPUT_DATA_PATH, 'w', encoding='utf-8')\n",
    "\n",
    "    for line in train_data:\n",
    "        line_list = line.split('\\t') # 以制表符分割\n",
    "        line_list = line_list[4:] # 只保留查询词\n",
    "        output_line = '\\n'.join(line_list) # 以换行符连接\n",
    "        output_data.write(output_line) # 写入文件\n",
    "finally:\n",
    "    train_data.close()\n",
    "    output_data.close()"
   ],
   "outputs": [],
   "execution_count": null
  },
  {
   "cell_type": "code",
   "id": "fc9750c11cfd34b",
   "metadata": {},
   "source": [
    "import re\n",
    "import os.path\n",
    "\n",
    "OUTPUT_DATA_PATH = '../data/processed/cleaned.train'\n",
    "\n",
    "try:\n",
    "    train_data = open('../data/processed/query_words.train', 'r', encoding='utf-8')\n",
    "    if os.path.exists(OUTPUT_DATA_PATH):\n",
    "        os.remove(OUTPUT_DATA_PATH)\n",
    "\n",
    "    output_data = open(OUTPUT_DATA_PATH, 'w', encoding='utf-8')\n",
    "\n",
    "    for line in train_data:\n",
    "        word_list = line.split('\\t')\n",
    "        pattern = re.compile('(https?|ftp|file)://[-A-Za-z0-9+&@#/%?=~_|!:,.;]+[-A-Za-z0-9+&@#/%=~_|]')\n",
    "        # 如果字符串包含网址，则跳过\n",
    "        if pattern.search(word_list[0]):\n",
    "            continue\n",
    "        line_string = '\\n'.join(word_list)\n",
    "        output_data.write(line_string)\n",
    "finally:\n",
    "    train_data.close()\n",
    "    output_data.close()"
   ],
   "outputs": [],
   "execution_count": null
  },
  {
   "cell_type": "markdown",
   "id": "e5773289bf4f5f23",
   "metadata": {},
   "source": [
    "## 分词"
   ]
  },
  {
   "cell_type": "code",
   "id": "fa34e3609b4450a5",
   "metadata": {
    "ExecuteTime": {
     "end_time": "2024-10-20T09:28:00.077466Z",
     "start_time": "2024-10-20T09:21:36.554181Z"
    }
   },
   "source": [
    "import jieba\n",
    "# 读取cleaned.train文件\n",
    "train_data = open('../data/processed/cleaned.train', 'r', encoding='utf-8')\n",
    "output_data = open('../data/processed/seg_list.train', 'w', encoding='utf-8')\n",
    "# 逐行处理\n",
    "for line in train_data:\n",
    "    line = line.strip()\n",
    "    temp_seg_list = list(jieba.cut(line))\n",
    "    # 去除空格\n",
    "    temp_seg_list = [word for word in temp_seg_list if word != ' ']\n",
    "    output_data.write('\\n'.join(temp_seg_list))\n",
    "    # 换行\n",
    "    output_data.write('\\n')\n",
    "# 关闭文件\n",
    "print('分词处理完成！')\n",
    "train_data.close()\n",
    "output_data.close()"
   ],
   "outputs": [
    {
     "name": "stdout",
     "output_type": "stream",
     "text": [
      "分词处理完成！\n"
     ]
    }
   ],
   "execution_count": 2
  },
  {
   "metadata": {},
   "cell_type": "code",
   "outputs": [],
   "execution_count": null,
   "source": "",
   "id": "33fca75804039685"
  }
 ],
 "metadata": {
  "kernelspec": {
   "display_name": "Python 3 (ipykernel)",
   "language": "python",
   "name": "python3"
  },
  "language_info": {
   "codemirror_mode": {
    "name": "ipython",
    "version": 3
   },
   "file_extension": ".py",
   "mimetype": "text/x-python",
   "name": "python",
   "nbconvert_exporter": "python",
   "pygments_lexer": "ipython3",
   "version": "3.12.3"
  }
 },
 "nbformat": 4,
 "nbformat_minor": 5
}
