{
 "cells": [
  {
   "cell_type": "markdown",
   "id": "d88639c1aadf1067",
   "metadata": {},
   "source": [
    "## 数据预处理\n",
    "\n"
   ]
  },
  {
   "cell_type": "code",
   "id": "7a6af711653f5ac0",
   "metadata": {},
   "source": [
    "import os.path\n",
    "\n",
    "train_data = open('../data/raw/sogou_rematch/user_tag_query.10W.TRAIN', 'r', encoding='gb18030')\n",
    "OUTPUT_DATA_PATH = '../data/processed/query_words.train'\n",
    "\n",
    "try:\n",
    "    if os.path.exists(OUTPUT_DATA_PATH):\n",
    "        os.remove(OUTPUT_DATA_PATH)\n",
    "\n",
    "    output_data = open(OUTPUT_DATA_PATH, 'w', encoding='utf-8')\n",
    "\n",
    "    for line in train_data:\n",
    "        line_list = line.split('\\t') # 以制表符分割\n",
    "        line_list = line_list[4:] # 只保留查询词\n",
    "        output_line = '\\n'.join(line_list) # 以换行符连接\n",
    "        output_data.write(output_line) # 写入文件\n",
    "finally:\n",
    "    train_data.close()\n",
    "    output_data.close()"
   ],
   "outputs": [],
   "execution_count": null
  },
  {
   "cell_type": "code",
   "id": "fc9750c11cfd34b",
   "metadata": {},
   "source": [
    "import re\n",
    "import os.path\n",
    "\n",
    "OUTPUT_DATA_PATH = '../data/processed/cleaned.train'\n",
    "\n",
    "try:\n",
    "    train_data = open('../data/processed/query_words.train', 'r', encoding='utf-8')\n",
    "    if os.path.exists(OUTPUT_DATA_PATH):\n",
    "        os.remove(OUTPUT_DATA_PATH)\n",
    "\n",
    "    output_data = open(OUTPUT_DATA_PATH, 'w', encoding='utf-8')\n",
    "\n",
    "    for line in train_data:\n",
    "        word_list = line.split('\\t')\n",
    "        pattern = re.compile('(https?|ftp|file)://[-A-Za-z0-9+&@#/%?=~_|!:,.;]+[-A-Za-z0-9+&@#/%=~_|]')\n",
    "        # 如果字符串包含网址，则跳过\n",
    "        if pattern.search(word_list[0]):\n",
    "            continue\n",
    "        line_string = '\\n'.join(word_list)\n",
    "        output_data.write(line_string)\n",
    "finally:\n",
    "    train_data.close()\n",
    "    output_data.close()"
   ],
   "outputs": [],
   "execution_count": null
  },
  {
   "cell_type": "markdown",
   "id": "e5773289bf4f5f23",
   "metadata": {},
   "source": [
    "## 分词"
   ]
  },
  {
   "cell_type": "code",
   "id": "fa34e3609b4450a5",
   "metadata": {},
   "source": [
    "import jieba\n",
    "# 读取cleaned.train文件\n",
    "train_data = open('../data/processed/cleaned.train', 'r', encoding='utf-8')\n",
    "output_data = open('../data/processed/seg_list.train', 'w', encoding='utf-8')\n",
    "# 逐行处理\n",
    "for line in train_data:\n",
    "    line = line.strip()\n",
    "    temp_seg_list = list(jieba.cut(line))\n",
    "    # 去除空格\n",
    "    temp_seg_list = [word for word in temp_seg_list if word != ' ']\n",
    "    output_data.write('\\n'.join(temp_seg_list))\n",
    "    # 换行\n",
    "    output_data.write('\\n')\n",
    "# 关闭文件\n",
    "print('分词处理完成！')\n",
    "train_data.close()\n",
    "output_data.close()"
   ],
   "outputs": [],
   "execution_count": null
  },
  {
   "metadata": {},
   "cell_type": "markdown",
   "source": "## 合并停用词文件",
   "id": "c6ab45806ae99c03"
  },
  {
   "metadata": {},
   "cell_type": "code",
   "source": [
    "# 停用词文件路径\n",
    "stopwords_file_1 = '../data/stop_words/baidu_stopwords.txt'  # 第一个停用词文件\n",
    "stopwords_file_2 = '../data/stop_words/cn_stopwords.txt'  # 第二个停用词文件\n",
    "output_file = '../data/stop_words/merge_stopwords.txt'  # 输出合并后的停用词文件\n",
    "\n",
    "# 1. 读取第一个停用词文件\n",
    "stopwords = set()  # 使用集合以避免重复\n",
    "\n",
    "with open(stopwords_file_1, 'r', encoding='utf-8') as file:\n",
    "    for line in file:\n",
    "        stopwords.add(line.strip())  # 去除行首尾空白并添加到集合中\n",
    "\n",
    "# 2. 读取第二个停用词文件\n",
    "with open(stopwords_file_2, 'r', encoding='utf-8') as file:\n",
    "    for line in file:\n",
    "        stopwords.add(line.strip())  # 去除行首尾空白并添加到集合中\n",
    "\n",
    "# 3. 将合并后的停用词写入输出文件\n",
    "with open(output_file, 'w', encoding='utf-8') as file:\n",
    "    for word in sorted(stopwords):  # 可选：按字母顺序排序\n",
    "        file.write(word + '\\n')  # 每个停用词写入一行"
   ],
   "id": "39e2c3cc75837deb",
   "outputs": [],
   "execution_count": null
  },
  {
   "metadata": {},
   "cell_type": "markdown",
   "source": "## 过滤词",
   "id": "dd6e38acd85cdd91"
  },
  {
   "metadata": {},
   "cell_type": "code",
   "source": [
    "# 1. 加载停用词\n",
    "stopwords_file = '../data/stop_words/merge_stopwords.txt'  # 停用词文件路径\n",
    "stopwords = set()\n",
    "\n",
    "with open(stopwords_file, 'r', encoding='utf-8') as file:\n",
    "    for line in file:\n",
    "        stopwords.add(line.strip())\n",
    "\n",
    "# 2. 读取已分词的训练数据并过滤停用词\n",
    "train_file = '../data/processed/seg_list.train'  # 已分词的训练数据路径\n",
    "output_file = '../data/processed/filter_list.train'  # 过滤后的训练数据路径\n",
    "\n",
    "with open(train_file, 'r', encoding='utf-8') as train_data, \\\n",
    "     open(output_file, 'w', encoding='utf-8') as output_data:\n",
    "\n",
    "    for line in train_data:\n",
    "        line = line.strip()  # 去除行首尾空白\n",
    "        words = line.split()  # 将分词结果按空格拆分\n",
    "        # 过滤停用词\n",
    "        filtered_words = [word for word in words if word not in stopwords]\n",
    "        if filtered_words:  # 确保不写入空行\n",
    "            output_data.write(' '.join(filtered_words) + '\\n')  # 以空格连接过滤后的词\n"
   ],
   "id": "b836a95bbcd1e7b9",
   "outputs": [],
   "execution_count": null
  },
  {
   "metadata": {},
   "cell_type": "markdown",
   "source": "## 选取关键词",
   "id": "5c4a53c64427f7aa"
  },
  {
   "metadata": {},
   "cell_type": "code",
   "source": [
    "# 导入必要的库\n",
    "from collections import Counter\n",
    "\n",
    "def read_and_count_words(filename, exclude_single=True, exclude_specific=None):\n",
    "    # 读取文件内容并将每一行作为一个单词\n",
    "    with open(filename, 'r', encoding='utf-8') as file:\n",
    "        words = [line.strip() for line in file]\n",
    "    # 去除单个字的词语\n",
    "    if exclude_single:\n",
    "        words = [word for word in words if len(word) > 1]\n",
    "    \n",
    "    # 去除特定的词语\n",
    "    if exclude_specific:\n",
    "        words = [word for word in words if word not in exclude_specific]\n",
    "    # 使用Counter来统计每个词的出现频率\n",
    "    word_counts = Counter(words)\n",
    "    \n",
    "    # 获取出现频率最高的前20个词语\n",
    "    most_common_20 = word_counts.most_common(20)\n",
    "    \n",
    "    return most_common_20\n",
    "\n",
    "# 调用函数，并打印结果\n",
    "filename = '../data/processed/filter_list.train'  \n",
    "exclude_specific = ['2016']\n",
    "most_common_20 = read_and_count_words(filename, exclude_single=True, exclude_specific=exclude_specific)\n",
    "\n",
    "# 打印出前20个最常见的词语及其频率\n",
    "for word, freq in most_common_20:\n",
    "    print(f'{word}: {freq}')"
   ],
   "id": "cc44368ea2891478",
   "outputs": [],
   "execution_count": null
  },
  {
   "metadata": {},
   "cell_type": "code",
   "source": "",
   "id": "8d1c72c7c275cfbd",
   "outputs": [],
   "execution_count": null
  }
 ],
 "metadata": {
  "kernelspec": {
   "display_name": "Python 3 (ipykernel)",
   "language": "python",
   "name": "python3"
  },
  "language_info": {
   "codemirror_mode": {
    "name": "ipython",
    "version": 3
   },
   "file_extension": ".py",
   "mimetype": "text/x-python",
   "name": "python",
   "nbconvert_exporter": "python",
   "pygments_lexer": "ipython3",
   "version": "3.12.3"
  }
 },
 "nbformat": 4,
 "nbformat_minor": 5
}
