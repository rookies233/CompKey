{
 "cells": [
  {
   "cell_type": "markdown",
   "id": "d88639c1aadf1067",
   "metadata": {},
   "source": [
    "## 数据预处理\n",
    "\n"
   ]
  },
  {
   "cell_type": "code",
   "id": "7a6af711653f5ac0",
   "metadata": {},
   "source": [
    "import os.path\n",
    "\n",
    "train_data = open('../data/raw/sogou_rematch/user_tag_query.10W.TRAIN', 'r', encoding='gb18030')\n",
    "OUTPUT_DATA_PATH = '../data/processed/query_words.train'\n",
    "\n",
    "try:\n",
    "    if os.path.exists(OUTPUT_DATA_PATH):\n",
    "        os.remove(OUTPUT_DATA_PATH)\n",
    "\n",
    "    output_data = open(OUTPUT_DATA_PATH, 'w', encoding='utf-8')\n",
    "\n",
    "    for line in train_data:\n",
    "        line_list = line.split('\\t') # 以制表符分割\n",
    "        line_list = line_list[4:] # 只保留查询词\n",
    "        output_line = '\\n'.join(line_list) # 以换行符连接\n",
    "        output_data.write(output_line) # 写入文件\n",
    "finally:\n",
    "    train_data.close()\n",
    "    output_data.close()"
   ],
   "outputs": [],
   "execution_count": null
  },
  {
   "cell_type": "code",
   "id": "fc9750c11cfd34b",
   "metadata": {},
   "source": [
    "import re\n",
    "import os.path\n",
    "\n",
    "OUTPUT_DATA_PATH = '../data/processed/cleaned.train'\n",
    "\n",
    "try:\n",
    "    train_data = open('../data/processed/query_words.train', 'r', encoding='utf-8')\n",
    "    if os.path.exists(OUTPUT_DATA_PATH):\n",
    "        os.remove(OUTPUT_DATA_PATH)\n",
    "\n",
    "    output_data = open(OUTPUT_DATA_PATH, 'w', encoding='utf-8')\n",
    "\n",
    "    for line in train_data:\n",
    "        word_list = line.split('\\t')\n",
    "        pattern = re.compile('(https?|ftp|file)://[-A-Za-z0-9+&@#/%?=~_|!:,.;]+[-A-Za-z0-9+&@#/%=~_|]')\n",
    "        # 如果字符串包含网址，则跳过\n",
    "        if pattern.search(word_list[0]):\n",
    "            continue\n",
    "        line_string = '\\n'.join(word_list)\n",
    "        output_data.write(line_string)\n",
    "finally:\n",
    "    train_data.close()\n",
    "    output_data.close()"
   ],
   "outputs": [],
   "execution_count": null
  },
  {
   "cell_type": "markdown",
   "id": "e5773289bf4f5f23",
   "metadata": {},
   "source": [
    "## 分词"
   ]
  },
  {
   "cell_type": "code",
   "id": "fa34e3609b4450a5",
   "metadata": {},
   "source": [
    "import jieba\n",
    "# 读取cleaned.train文件\n",
    "train_data = open('../data/processed/cleaned.train', 'r', encoding='utf-8')\n",
    "output_data = open('../data/processed/seg_list.train', 'w', encoding='utf-8')\n",
    "# 逐行处理\n",
    "for line in train_data:\n",
    "    line = line.strip()\n",
    "    temp_seg_list = list(jieba.cut(line))\n",
    "    # 去除空格\n",
    "    temp_seg_list = [word for word in temp_seg_list if word != ' ']\n",
    "    output_data.write('\\n'.join(temp_seg_list))\n",
    "    # 换行\n",
    "    output_data.write('\\n')\n",
    "# 关闭文件\n",
    "print('分词处理完成！')\n",
    "train_data.close()\n",
    "output_data.close()"
   ],
   "outputs": [],
   "execution_count": null
  },
  {
   "metadata": {},
   "cell_type": "markdown",
   "source": "## 合并停用词文件",
   "id": "c6ab45806ae99c03"
  },
  {
   "metadata": {},
   "cell_type": "code",
   "source": [
    "# 停用词文件路径\n",
    "stopwords_file_1 = '../data/stop_words/baidu_stopwords.txt'  # 第一个停用词文件\n",
    "stopwords_file_2 = '../data/stop_words/cn_stopwords.txt'  # 第二个停用词文件\n",
    "output_file = '../data/stop_words/merge_stopwords.txt'  # 输出合并后的停用词文件\n",
    "\n",
    "# 1. 读取第一个停用词文件\n",
    "stopwords = set()  # 使用集合以避免重复\n",
    "\n",
    "with open(stopwords_file_1, 'r', encoding='utf-8') as file:\n",
    "    for line in file:\n",
    "        stopwords.add(line.strip())  # 去除行首尾空白并添加到集合中\n",
    "\n",
    "# 2. 读取第二个停用词文件\n",
    "with open(stopwords_file_2, 'r', encoding='utf-8') as file:\n",
    "    for line in file:\n",
    "        stopwords.add(line.strip())  # 去除行首尾空白并添加到集合中\n",
    "\n",
    "# 3. 将合并后的停用词写入输出文件\n",
    "with open(output_file, 'w', encoding='utf-8') as file:\n",
    "    for word in sorted(stopwords):  # 可选：按字母顺序排序\n",
    "        file.write(word + '\\n')  # 每个停用词写入一行"
   ],
   "id": "39e2c3cc75837deb",
   "outputs": [],
   "execution_count": null
  },
  {
   "metadata": {},
   "cell_type": "markdown",
   "source": "## 过滤词",
   "id": "dd6e38acd85cdd91"
  },
  {
   "metadata": {},
   "cell_type": "code",
   "source": [
    "# 1. 加载停用词\n",
    "stopwords_file = '../data/stop_words/merge_stopwords.txt'  # 停用词文件路径\n",
    "stopwords = set()\n",
    "\n",
    "with open(stopwords_file, 'r', encoding='utf-8') as file:\n",
    "    for line in file:\n",
    "        stopwords.add(line.strip())\n",
    "\n",
    "# 2. 读取已分词的训练数据并过滤停用词\n",
    "train_file = '../data/processed/seg_list.train'  # 已分词的训练数据路径\n",
    "output_file = '../data/processed/filter_list.train'  # 过滤后的训练数据路径\n",
    "\n",
    "with open(train_file, 'r', encoding='utf-8') as train_data, \\\n",
    "     open(output_file, 'w', encoding='utf-8') as output_data:\n",
    "\n",
    "    for line in train_data:\n",
    "        line = line.strip()  # 去除行首尾空白\n",
    "        words = line.split()  # 将分词结果按空格拆分\n",
    "        # 过滤停用词\n",
    "        filtered_words = [word for word in words if word not in stopwords]\n",
    "        if filtered_words:  # 确保不写入空行\n",
    "            output_data.write(' '.join(filtered_words) + '\\n')  # 以空格连接过滤后的词\n"
   ],
   "id": "b836a95bbcd1e7b9",
   "outputs": [],
   "execution_count": null
  },
  {
   "metadata": {},
   "cell_type": "markdown",
   "source": "## 选取关键词",
   "id": "5c4a53c64427f7aa"
  },
  {
   "metadata": {
    "ExecuteTime": {
     "end_time": "2024-10-28T04:59:49.856138Z",
     "start_time": "2024-10-28T04:59:30.519697Z"
    }
   },
   "cell_type": "code",
   "source": [
    "import time\n",
    "from collections import Counter\n",
    "\n",
    "def read_and_count_words(filename, exclude_single=True, exclude_specific=None):\n",
    "    # 记录开始时间\n",
    "    start_time = time.time()\n",
    "\n",
    "    # 读取文件内容并将每一行作为一个单词\n",
    "    with open(filename, 'r', encoding='utf-8') as file:\n",
    "        words = [line.strip() for line in file]\n",
    "    \n",
    "    # 去除单个字的词语\n",
    "    if exclude_single:\n",
    "        words = [word for word in words if len(word) > 1]\n",
    "    \n",
    "    # 去除特定的词语\n",
    "    if exclude_specific:\n",
    "        words = [word for word in words if word not in exclude_specific]\n",
    "    \n",
    "    # 使用Counter来统计每个词的出现频率\n",
    "    word_counts = Counter(words)\n",
    "    \n",
    "    # 获取出现频率最高的前20个词语\n",
    "    most_common_20 = word_counts.most_common(20)\n",
    "    \n",
    "    # 记录结束时间\n",
    "    end_time = time.time()\n",
    "    elapsed_time = end_time - start_time\n",
    "    \n",
    "    print(f\"运行时间: {elapsed_time:.4f}秒\")\n",
    "    \n",
    "    return most_common_20\n",
    "\n",
    "# 调用函数，并打印结果\n",
    "filename = '../data/processed/filter_list.train'  \n",
    "exclude_specific = ['2016']\n",
    "most_common_20 = read_and_count_words(filename, exclude_single=True, exclude_specific=exclude_specific)\n",
    "\n",
    "# 打印出前20个最常见的词语及其频率\n",
    "for word, freq in most_common_20:\n",
    "    print(f'{word}: {freq}')"
   ],
   "id": "cc44368ea2891478",
   "outputs": [
    {
     "name": "stdout",
     "output_type": "stream",
     "text": [
      "运行时间: 18.6463秒\n",
      "图片: 291067\n",
      "手机: 191439\n",
      "小说: 159798\n",
      "视频: 157470\n",
      "下载: 134902\n",
      "大全: 131461\n",
      "qq: 98843\n",
      "电影: 96574\n",
      "中国: 94098\n",
      "世界: 85064\n",
      "重生: 72730\n",
      "百度: 68046\n",
      "官网: 66630\n",
      "txt: 65481\n",
      "英语: 64916\n",
      "电视剧: 63333\n",
      "游戏: 61142\n",
      "查询: 60955\n",
      "做法: 60019\n",
      "一个: 59794\n"
     ]
    }
   ],
   "execution_count": 6
  },
  {
   "metadata": {},
   "cell_type": "markdown",
   "source": "# 哈希+最小堆",
   "id": "c8cd6d12ecddbeef"
  },
  {
   "metadata": {
    "ExecuteTime": {
     "end_time": "2024-10-28T05:00:06.752241Z",
     "start_time": "2024-10-28T04:59:49.856138Z"
    }
   },
   "cell_type": "code",
   "source": [
    "import time\n",
    "import heapq\n",
    "\n",
    "def read_and_count_words(filename, exclude_single=True, exclude_specific=None):\n",
    "    # 初始化一个空的计数字典\n",
    "    word_counts = {}\n",
    "    \n",
    "    # 记录开始时间\n",
    "    start_time = time.time()\n",
    "\n",
    "    # 读取文件内容并将每一行作为一个单词\n",
    "    with open(filename, 'r', encoding='utf-8') as file:\n",
    "        for line in file:\n",
    "            word = line.strip()\n",
    "            # 检查是否需要排除单个字符的单词或特定单词\n",
    "            if (not exclude_single or len(word) > 1) and (exclude_specific is None or word not in exclude_specific):\n",
    "                # 更新计数字典\n",
    "                word_counts[word] = word_counts.get(word, 0) + 1\n",
    "    \n",
    "    # 创建一个大小为20的最小堆\n",
    "    heap = []\n",
    "    for word, count in word_counts.items():\n",
    "        if len(heap) < 20:\n",
    "            heapq.heappush(heap, (count, word))\n",
    "        else:\n",
    "            # 如果当前单词的计数大于堆顶元素，则替换它\n",
    "            if count > heap[0][0]:\n",
    "                heapq.heapreplace(heap, (count, word))\n",
    "    \n",
    "    # 将堆转换成有序列表\n",
    "    most_common_20 = [(word, count) for count, word in sorted(heap, reverse=True)]\n",
    "    \n",
    "    # 记录结束时间\n",
    "    end_time = time.time()\n",
    "    elapsed_time = end_time - start_time\n",
    "    \n",
    "    print(f\"运行时间: {elapsed_time:.4f}秒\")\n",
    "    \n",
    "    return most_common_20\n",
    "\n",
    "# 调用函数，并打印结果\n",
    "filename = '../data/processed/filter_list.train'  \n",
    "exclude_specific = ['2016']\n",
    "most_common_20 = read_and_count_words(filename, exclude_single=True, exclude_specific=exclude_specific)\n",
    "\n",
    "# 打印出前20个最常见的词语及其频率\n",
    "for word, freq in most_common_20:\n",
    "    print(f'{word}: {freq}')"
   ],
   "id": "7e8e85eb5755cdba",
   "outputs": [
    {
     "name": "stdout",
     "output_type": "stream",
     "text": [
      "运行时间: 16.8643秒\n",
      "图片: 291067\n",
      "手机: 191439\n",
      "小说: 159798\n",
      "视频: 157470\n",
      "下载: 134902\n",
      "大全: 131461\n",
      "qq: 98843\n",
      "电影: 96574\n",
      "中国: 94098\n",
      "世界: 85064\n",
      "重生: 72730\n",
      "百度: 68046\n",
      "官网: 66630\n",
      "txt: 65481\n",
      "英语: 64916\n",
      "电视剧: 63333\n",
      "游戏: 61142\n",
      "查询: 60955\n",
      "做法: 60019\n",
      "一个: 59794\n"
     ]
    }
   ],
   "execution_count": 7
  },
  {
   "metadata": {},
   "cell_type": "markdown",
   "source": "# 筛选含有种子关键词的搜索条目——暴力匹配",
   "id": "a3668e07296e4afb"
  },
  {
   "metadata": {
    "ExecuteTime": {
     "end_time": "2024-10-28T14:21:27.891092Z",
     "start_time": "2024-10-28T14:21:12.920979Z"
    }
   },
   "cell_type": "code",
   "source": [
    "import time\n",
    "\n",
    "def read_seed_words(filename):\n",
    "    # 从指定文件中读取种子词\n",
    "    with open(filename, 'r', encoding='utf-8') as file:\n",
    "        return [line.strip() for line in file]\n",
    "\n",
    "def filter_items_with_seed_words(input_filename, output_filename, seed_words):\n",
    "    # 创建一个字典来存储每个种子词对应的数据项\n",
    "    categorized_items = {seed_word: [] for seed_word in seed_words}\n",
    "    \n",
    "    # 读取输入文件并分类数据项\n",
    "    with open(input_filename, 'r', encoding='gbk', errors='ignore') as infile:\n",
    "        for line in infile:\n",
    "            items = line.strip().split()  # 使用空格分割每一行的数据项\n",
    "            \n",
    "            # 检查每一个数据项\n",
    "            for item in items:\n",
    "                for seed_word in seed_words:\n",
    "                    if seed_word in item:\n",
    "                        # 添加到对应的种子词列表中\n",
    "                        categorized_items[seed_word].append(item)\n",
    "    \n",
    "    # 写入输出文件\n",
    "    with open(output_filename, 'w', encoding='utf-8') as outfile:\n",
    "        # 遍历每个种子词及其对应的数据项\n",
    "        for seed_word, items in categorized_items.items():\n",
    "            if items:\n",
    "                outfile.write(f\"{seed_word}:\\n\")\n",
    "                for item in items:\n",
    "                    outfile.write(f\"  {item}\\n\")\n",
    "\n",
    "# 主函数\n",
    "if __name__ == \"__main__\":\n",
    "    # 记录开始时间\n",
    "    start_time = time.time()\n",
    "\n",
    "    # 指定文件路径\n",
    "    seed_words_file = '../data/seed_words'\n",
    "    user_tag_query_file = '../data/user_tag_query.10W.TRAIN'\n",
    "    output_file = '../data/seed_words_query.train'\n",
    "\n",
    "    # 读取种子词\n",
    "    seed_words = read_seed_words(seed_words_file)\n",
    "    # print(\"读取的种子词:\", seed_words)\n",
    "\n",
    "    # 过滤并分类保存结果\n",
    "    filter_items_with_seed_words(user_tag_query_file, output_file, seed_words)\n",
    "    \n",
    "    # 记录结束时间\n",
    "    end_time = time.time()\n",
    "    elapsed_time = end_time - start_time\n",
    "    print(f\"程序运行时间: {elapsed_time:.4f}秒\")\n",
    "    \n",
    "    # print(f\"筛选后的数据已保存至 {output_file}\")"
   ],
   "id": "8d1c72c7c275cfbd",
   "outputs": [
    {
     "name": "stdout",
     "output_type": "stream",
     "text": [
      "程序运行时间: 14.9637秒\n"
     ]
    }
   ],
   "execution_count": 16
  },
  {
   "metadata": {},
   "cell_type": "markdown",
   "source": "# 筛选含有种子关键词的搜索条目——ac自动机",
   "id": "c29805205761b577"
  },
  {
   "metadata": {
    "ExecuteTime": {
     "end_time": "2024-10-28T14:20:24.055781Z",
     "start_time": "2024-10-28T14:20:12.649542Z"
    }
   },
   "cell_type": "code",
   "source": [
    "import time\n",
    "from ahocorasick import Automaton\n",
    "\n",
    "def read_seed_words(filename):\n",
    "    # 从指定文件中读取种子词\n",
    "    with open(filename, 'r', encoding='utf-8') as file:\n",
    "        return [line.strip() for line in file]\n",
    "\n",
    "def match_patterns_in_file(input_filename, output_filename, automaton):\n",
    "    # 使用自动机匹配文本中的模式串，并将结果写入到新文件中\n",
    "    with open(input_filename, 'r', encoding='gbk', errors='ignore') as input_file, \\\n",
    "         open(output_filename, 'w', encoding='utf-8') as output_file:\n",
    "        for line in input_file:\n",
    "            words = line.split()  # 分割每行的单词\n",
    "            for word in words:\n",
    "                matches = list(automaton.iter(word))\n",
    "                for end_index, (insert_order, original_value) in matches:\n",
    "                    start_index = end_index - len(original_value) + 1\n",
    "                    output_file.write(f\"{word}\\n\")\n",
    "\n",
    "# 文件路径\n",
    "seed_words_file = '../data/seed_words'\n",
    "user_tag_query_file = '../data/user_tag_query.10W.TRAIN'\n",
    "output_file = '../data/seed_words_query_ac.train'\n",
    "\n",
    "# 开始计时\n",
    "start_time = time.time()\n",
    "\n",
    "# 读取种子词\n",
    "seed_words = read_seed_words(seed_words_file)\n",
    "\n",
    "# 创建AC自动机实例\n",
    "automaton = Automaton()\n",
    "\n",
    "# 添加模式串到自动机中\n",
    "for idx, keyword in enumerate(seed_words):\n",
    "    automaton.add_word(keyword, (idx, keyword))  # 可以附加任何数据到关键词上\n",
    "\n",
    "# 构建自动机\n",
    "automaton.make_automaton()\n",
    "\n",
    "# 匹配文件中的所有字符串并将结果输出到新文件中\n",
    "match_patterns_in_file(user_tag_query_file, output_file, automaton)\n",
    "\n",
    "# 结束计时并打印执行时间\n",
    "end_time = time.time()\n",
    "execution_time = end_time - start_time\n",
    "print(f\"程序执行时间: {execution_time:.2f} 秒\")"
   ],
   "id": "d9ded5955aa328f3",
   "outputs": [
    {
     "name": "stdout",
     "output_type": "stream",
     "text": [
      "程序执行时间: 11.40 秒\n"
     ]
    }
   ],
   "execution_count": 15
  },
  {
   "metadata": {},
   "cell_type": "code",
   "outputs": [],
   "execution_count": null,
   "source": "",
   "id": "2bc13c7198b2073b"
  },
  {
   "metadata": {},
   "cell_type": "markdown",
   "source": "# 筛选含种子关键词的搜索条目——WM算法（不适用",
   "id": "7388d7ad8ff9ac25"
  },
  {
   "metadata": {},
   "cell_type": "markdown",
   "source": "",
   "id": "b7e649935595582a"
  },
  {
   "metadata": {},
   "cell_type": "markdown",
   "source": "",
   "id": "4122db76af54e91a"
  },
  {
   "metadata": {
    "ExecuteTime": {
     "end_time": "2024-10-28T23:49:15.032576Z",
     "start_time": "2024-10-28T16:44:16.818565Z"
    }
   },
   "cell_type": "code",
   "source": [
    "import time\n",
    "\n",
    "def create_bad_character_table(pattern):\n",
    "    # 创建“坏字符”位移表\n",
    "    bc = {}\n",
    "    m = len(pattern)\n",
    "    for i in range(m - 1):\n",
    "        # 如果字符不在表中，则设置位移量为模式的长度减去字符的位置减一\n",
    "        bc[pattern[i]] = m - i - 1\n",
    "    return bc\n",
    "\n",
    "def search_patterns_in_file(input_filename, output_filename, patterns):\n",
    "    # 创建每个模式的“坏字符”位移表\n",
    "    bad_char_shift = {pattern: create_bad_character_table(pattern) for pattern in patterns}\n",
    "    \n",
    "    with open(input_filename, 'r', encoding='gbk', errors='ignore') as input_file, \\\n",
    "         open(output_filename, 'w', encoding='utf-8') as output_file:\n",
    "        for line in input_file:\n",
    "            text = line.strip()\n",
    "            words = text.split()  # 按空格分割每行的单词\n",
    "            \n",
    "            for word in words:\n",
    "                for pattern in patterns:\n",
    "                    m = len(pattern)\n",
    "                    n = len(word)\n",
    "                    i = m - 1\n",
    "                    while i < n:\n",
    "                        j = m - 1\n",
    "                        while j >= 0 and word[i] == pattern[j]:\n",
    "                            if j == 0:\n",
    "                                output_file.write(f\"{word}\\n\")\n",
    "                                break\n",
    "                            i -= 1\n",
    "                            j -= 1\n",
    "                        if j > 0:  # 没有完全匹配\n",
    "                            shift = bad_char_shift[pattern].get(word[i], m)\n",
    "                            i += shift\n",
    "                        else:\n",
    "                            i += 1\n",
    "\n",
    "# 文件路径\n",
    "seed_words_file = '../data/seed_words'\n",
    "user_tag_query_file = '../data/user_tag_query.10W.TRAIN'\n",
    "output_file = '../data/seed_words_query_wu_manber.train'\n",
    "\n",
    "# 开始计时\n",
    "start_time = time.time()\n",
    "\n",
    "# 读取种子词\n",
    "with open(seed_words_file, 'r', encoding='utf-8') as file:\n",
    "    seed_words = [line.strip() for line in file]\n",
    "\n",
    "# 在文件中搜索模式并将结果输出到新文件中\n",
    "search_patterns_in_file(user_tag_query_file, output_file, seed_words)\n",
    "\n",
    "# 结束计时并打印执行时间\n",
    "end_time = time.time()\n",
    "execution_time = end_time - start_time\n",
    "print(f\"程序执行时间: {execution_time:.2f} 秒\")"
   ],
   "id": "82824ecdd353c41a",
   "outputs": [
    {
     "ename": "KeyboardInterrupt",
     "evalue": "",
     "output_type": "error",
     "traceback": [
      "\u001B[1;31m---------------------------------------------------------------------------\u001B[0m",
      "\u001B[1;31mKeyboardInterrupt\u001B[0m                         Traceback (most recent call last)",
      "Cell \u001B[1;32mIn[22], line 54\u001B[0m\n\u001B[0;32m     51\u001B[0m     seed_words \u001B[38;5;241m=\u001B[39m [line\u001B[38;5;241m.\u001B[39mstrip() \u001B[38;5;28;01mfor\u001B[39;00m line \u001B[38;5;129;01min\u001B[39;00m file]\n\u001B[0;32m     53\u001B[0m \u001B[38;5;66;03m# 在文件中搜索模式并将结果输出到新文件中\u001B[39;00m\n\u001B[1;32m---> 54\u001B[0m \u001B[43msearch_patterns_in_file\u001B[49m\u001B[43m(\u001B[49m\u001B[43muser_tag_query_file\u001B[49m\u001B[43m,\u001B[49m\u001B[43m \u001B[49m\u001B[43moutput_file\u001B[49m\u001B[43m,\u001B[49m\u001B[43m \u001B[49m\u001B[43mseed_words\u001B[49m\u001B[43m)\u001B[49m\n\u001B[0;32m     56\u001B[0m \u001B[38;5;66;03m# 结束计时并打印执行时间\u001B[39;00m\n\u001B[0;32m     57\u001B[0m end_time \u001B[38;5;241m=\u001B[39m time\u001B[38;5;241m.\u001B[39mtime()\n",
      "Cell \u001B[1;32mIn[22], line 27\u001B[0m, in \u001B[0;36msearch_patterns_in_file\u001B[1;34m(input_filename, output_filename, patterns)\u001B[0m\n\u001B[0;32m     25\u001B[0m n \u001B[38;5;241m=\u001B[39m \u001B[38;5;28mlen\u001B[39m(word)\n\u001B[0;32m     26\u001B[0m i \u001B[38;5;241m=\u001B[39m m \u001B[38;5;241m-\u001B[39m \u001B[38;5;241m1\u001B[39m\n\u001B[1;32m---> 27\u001B[0m \u001B[38;5;28;01mwhile\u001B[39;00m i \u001B[38;5;241m<\u001B[39m n:\n\u001B[0;32m     28\u001B[0m     j \u001B[38;5;241m=\u001B[39m m \u001B[38;5;241m-\u001B[39m \u001B[38;5;241m1\u001B[39m\n\u001B[0;32m     29\u001B[0m     \u001B[38;5;28;01mwhile\u001B[39;00m j \u001B[38;5;241m>\u001B[39m\u001B[38;5;241m=\u001B[39m \u001B[38;5;241m0\u001B[39m \u001B[38;5;129;01mand\u001B[39;00m word[i] \u001B[38;5;241m==\u001B[39m pattern[j]:\n",
      "\u001B[1;31mKeyboardInterrupt\u001B[0m: "
     ]
    }
   ],
   "execution_count": 22
  },
  {
   "metadata": {},
   "cell_type": "markdown",
   "source": "# 画图",
   "id": "7a4710921aed09bd"
  },
  {
   "metadata": {
    "ExecuteTime": {
     "end_time": "2024-10-29T02:59:24.990673Z",
     "start_time": "2024-10-29T02:59:24.856303Z"
    }
   },
   "cell_type": "code",
   "source": [
    "import matplotlib.pyplot as plt\n",
    "\n",
    "# 更新时间消耗数据\n",
    "methods = ['most_common', 'min_heap', 'tim_sort']\n",
    "time_costs = [18.643, 16.864, 17.737]  # 单位秒\n",
    "space_complexities = ['space:O(n)', 'space:O(K)', 'space:O(n)']  # 复杂度\n",
    "\n",
    "# 创建柱状图\n",
    "plt.figure(figsize=(5, 3))  # 增加宽度以容纳第三个条目\n",
    "bar_plot = plt.bar(methods, time_costs, color=['skyblue', 'salmon', 'lightgreen'])\n",
    "\n",
    "# 添加数值标签和空间复杂度标签\n",
    "for index, value in enumerate(time_costs):\n",
    "    plt.text(index, value, f'{value}s\\n{space_complexities[index]}',\n",
    "             ha='center', va='bottom', fontsize=10)\n",
    "\n",
    "# 设置标题和坐标轴标签\n",
    "plt.title('Time Consumption Comparison Between Methods')\n",
    "plt.xlabel('Methods')\n",
    "plt.ylabel('Time Consumption (seconds)')\n",
    "\n",
    "# 调整y轴的范围以确保文本标签不会被截断\n",
    "plt.ylim(0, max(time_costs) * 1.2)\n",
    "\n",
    "# 显示图表\n",
    "plt.show()"
   ],
   "id": "b5ff82e07f327ca",
   "outputs": [
    {
     "data": {
      "text/plain": [
       "<Figure size 500x300 with 1 Axes>"
      ],
      "image/png": "[encoded data removed]"
     },
     "metadata": {},
     "output_type": "display_data"
    }
   ],
   "execution_count": 2
  },
  {
   "metadata": {},
   "cell_type": "markdown",
   "source": "# 画图",
   "id": "a1d9bb9da061e061"
  },
  {
   "metadata": {
    "ExecuteTime": {
     "end_time": "2024-10-29T02:59:24.854304Z",
     "start_time": "2024-10-29T02:59:23.926510Z"
    }
   },
   "cell_type": "code",
   "source": [
    "import matplotlib.pyplot as plt\n",
    "import matplotlib.font_manager as fm\n",
    "\n",
    "# 注册字体\n",
    "plt.rcParams['font.sans-serif'] = ['SimHei']  # 使用黑体\n",
    "plt.rcParams['axes.unicode_minus'] = False  # 正常显示负号\n",
    "\n",
    "# 时间消耗数据\n",
    "algorithms = ['暴力匹配算法', 'AC自动机算法']\n",
    "time_costs = [14.9673, 11.40]  # 单位秒\n",
    "\n",
    "# 创建柱状图\n",
    "plt.figure(figsize=(4, 3))\n",
    "bar_plot = plt.bar(algorithms, time_costs, color=['skyblue', 'salmon'])\n",
    "\n",
    "# 添加数值标签\n",
    "for index, value in enumerate(time_costs):\n",
    "    plt.text(index, value, f'{value}s',\n",
    "             ha='center', va='bottom', fontsize=10)\n",
    "\n",
    "# 设置标题和坐标轴标签\n",
    "plt.title('算法时间消耗对比')\n",
    "plt.xlabel('算法')\n",
    "plt.ylabel('时间消耗 (秒)')\n",
    "\n",
    "# 调整y轴的范围以确保文本标签不会被截断\n",
    "plt.ylim(0, max(time_costs) * 1.2)\n",
    "\n",
    "# 显示图表\n",
    "plt.show()"
   ],
   "id": "1612bc7e2336aa92",
   "outputs": [
    {
     "data": {
      "text/plain": [
       "<Figure size 400x300 with 1 Axes>"
      ],
      "image/png": "[encoded data removed]"
     },
     "metadata": {},
     "output_type": "display_data"
    }
   ],
   "execution_count": 1
  },
  {
   "metadata": {},
   "cell_type": "code",
   "outputs": [],
   "execution_count": null,
   "source": "",
   "id": "1396f1f4ed9738be"
  }
 ],
 "metadata": {
  "kernelspec": {
   "display_name": "Python 3 (ipykernel)",
   "language": "python",
   "name": "python3"
  },
  "language_info": {
   "codemirror_mode": {
    "name": "ipython",
    "version": 3
   },
   "file_extension": ".py",
   "mimetype": "text/x-python",
   "name": "python",
   "nbconvert_exporter": "python",
   "pygments_lexer": "ipython3",
   "version": "3.12.3"
  }
 },
 "nbformat": 4,
 "nbformat_minor": 5
}
